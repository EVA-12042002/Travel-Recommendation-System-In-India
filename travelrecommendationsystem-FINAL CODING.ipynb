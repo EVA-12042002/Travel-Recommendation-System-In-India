{
 "cells": [
  {
   "cell_type": "code",
   "execution_count": 49,
   "id": "a084ce1d",
   "metadata": {},
   "outputs": [
    {
     "name": "stderr",
     "output_type": "stream",
     "text": [
      "[nltk_data] Downloading package stopwords to\n",
      "[nltk_data]     C:\\Users\\Jkuma\\AppData\\Roaming\\nltk_data...\n",
      "[nltk_data]   Package stopwords is already up-to-date!\n"
     ]
    }
   ],
   "source": [
    "import pandas as pd\n",
    "import numpy as np\n",
    "import difflib\n",
    "from sklearn.feature_extraction.text import TfidfVectorizer\n",
    "from sklearn.metrics.pairwise import cosine_similarity\n",
    "import nltk\n",
    "nltk.download('stopwords')\n",
    "from nltk.corpus import stopwords\n",
    "from nltk.stem.porter import PorterStemmer"
   ]
  },
  {
   "cell_type": "code",
   "execution_count": 50,
   "id": "819f8151",
   "metadata": {},
   "outputs": [
    {
     "name": "stderr",
     "output_type": "stream",
     "text": [
      "[nltk_data] Downloading package punkt to\n",
      "[nltk_data]     C:\\Users\\Jkuma\\AppData\\Roaming\\nltk_data...\n",
      "[nltk_data]   Package punkt is already up-to-date!\n"
     ]
    },
    {
     "data": {
      "text/plain": [
       "True"
      ]
     },
     "execution_count": 50,
     "metadata": {},
     "output_type": "execute_result"
    }
   ],
   "source": [
    "\n",
    "import nltk\n",
    "nltk.download('punkt')\n"
   ]
  },
  {
   "cell_type": "code",
   "execution_count": 51,
   "id": "11bb725e",
   "metadata": {},
   "outputs": [],
   "source": [
    "data=pd.read_csv(r\"C:\\Users\\Jkuma\\Downloads\\tourism_India.csv\")"
   ]
  },
  {
   "cell_type": "code",
   "execution_count": 73,
   "id": "ba84d031",
   "metadata": {},
   "outputs": [
    {
     "data": {
      "text/html": [
       "<div>\n",
       "<style scoped>\n",
       "    .dataframe tbody tr th:only-of-type {\n",
       "        vertical-align: middle;\n",
       "    }\n",
       "\n",
       "    .dataframe tbody tr th {\n",
       "        vertical-align: top;\n",
       "    }\n",
       "\n",
       "    .dataframe thead th {\n",
       "        text-align: right;\n",
       "    }\n",
       "</style>\n",
       "<table border=\"1\" class=\"dataframe\">\n",
       "  <thead>\n",
       "    <tr style=\"text-align: right;\">\n",
       "      <th></th>\n",
       "      <th>Unnamed: 0</th>\n",
       "      <th>Place</th>\n",
       "      <th>Rating</th>\n",
       "      <th>Best Time to Visit</th>\n",
       "      <th>Description</th>\n",
       "      <th>processed_description</th>\n",
       "    </tr>\n",
       "  </thead>\n",
       "  <tbody>\n",
       "    <tr>\n",
       "      <th>0</th>\n",
       "      <td>0</td>\n",
       "      <td>Manali</td>\n",
       "      <td>4.5</td>\n",
       "      <td>October to Jun</td>\n",
       "      <td>With spectacular valleys, breathtaking views, ...</td>\n",
       "      <td>spectacular valley breathtak view snowcap moun...</td>\n",
       "    </tr>\n",
       "    <tr>\n",
       "      <th>1</th>\n",
       "      <td>1</td>\n",
       "      <td>Leh Ladakh</td>\n",
       "      <td>4.6</td>\n",
       "      <td>Jun to Sep</td>\n",
       "      <td>Ladakh is a union territory in the Kashmir reg...</td>\n",
       "      <td>ladakh union territori kashmir region india fo...</td>\n",
       "    </tr>\n",
       "    <tr>\n",
       "      <th>2</th>\n",
       "      <td>2</td>\n",
       "      <td>Coorg</td>\n",
       "      <td>4.2</td>\n",
       "      <td>October to March</td>\n",
       "      <td>Located amidst imposing mountains in Karnataka...</td>\n",
       "      <td>locat amidst impos mountain karnataka perpetu ...</td>\n",
       "    </tr>\n",
       "    <tr>\n",
       "      <th>3</th>\n",
       "      <td>3</td>\n",
       "      <td>Andaman</td>\n",
       "      <td>4.5</td>\n",
       "      <td>October to Jun</td>\n",
       "      <td>Replete with turquoise blue water beaches and ...</td>\n",
       "      <td>replet turquois blue water beach bit histori a...</td>\n",
       "    </tr>\n",
       "    <tr>\n",
       "      <th>4</th>\n",
       "      <td>4</td>\n",
       "      <td>Lakshadweep</td>\n",
       "      <td>4.0</td>\n",
       "      <td>September to May</td>\n",
       "      <td>Formerly known as Laccadive Islands, Lakshadwe...</td>\n",
       "      <td>formerli known laccad island lakshadweep trans...</td>\n",
       "    </tr>\n",
       "  </tbody>\n",
       "</table>\n",
       "</div>"
      ],
      "text/plain": [
       "   Unnamed: 0        Place  Rating Best Time to Visit  \\\n",
       "0           0       Manali     4.5     October to Jun   \n",
       "1           1   Leh Ladakh     4.6         Jun to Sep   \n",
       "2           2        Coorg     4.2   October to March   \n",
       "3           3      Andaman     4.5     October to Jun   \n",
       "4           4  Lakshadweep     4.0   September to May   \n",
       "\n",
       "                                         Description  \\\n",
       "0  With spectacular valleys, breathtaking views, ...   \n",
       "1  Ladakh is a union territory in the Kashmir reg...   \n",
       "2  Located amidst imposing mountains in Karnataka...   \n",
       "3  Replete with turquoise blue water beaches and ...   \n",
       "4  Formerly known as Laccadive Islands, Lakshadwe...   \n",
       "\n",
       "                               processed_description  \n",
       "0  spectacular valley breathtak view snowcap moun...  \n",
       "1  ladakh union territori kashmir region india fo...  \n",
       "2  locat amidst impos mountain karnataka perpetu ...  \n",
       "3  replet turquois blue water beach bit histori a...  \n",
       "4  formerli known laccad island lakshadweep trans...  "
      ]
     },
     "execution_count": 73,
     "metadata": {},
     "output_type": "execute_result"
    }
   ],
   "source": [
    "data.head()"
   ]
  },
  {
   "cell_type": "code",
   "execution_count": 74,
   "id": "95178d16",
   "metadata": {},
   "outputs": [
    {
     "data": {
      "text/html": [
       "<div>\n",
       "<style scoped>\n",
       "    .dataframe tbody tr th:only-of-type {\n",
       "        vertical-align: middle;\n",
       "    }\n",
       "\n",
       "    .dataframe tbody tr th {\n",
       "        vertical-align: top;\n",
       "    }\n",
       "\n",
       "    .dataframe thead th {\n",
       "        text-align: right;\n",
       "    }\n",
       "</style>\n",
       "<table border=\"1\" class=\"dataframe\">\n",
       "  <thead>\n",
       "    <tr style=\"text-align: right;\">\n",
       "      <th></th>\n",
       "      <th>Unnamed: 0</th>\n",
       "      <th>Place</th>\n",
       "      <th>Rating</th>\n",
       "      <th>Best Time to Visit</th>\n",
       "      <th>Description</th>\n",
       "      <th>processed_description</th>\n",
       "    </tr>\n",
       "  </thead>\n",
       "  <tbody>\n",
       "    <tr>\n",
       "      <th>95</th>\n",
       "      <td>95</td>\n",
       "      <td>Pushkar</td>\n",
       "      <td>4.0</td>\n",
       "      <td>October to March</td>\n",
       "      <td>Pushka is a small temple town located around 1...</td>\n",
       "      <td>pushka small templ town locat around km ajmer ...</td>\n",
       "    </tr>\n",
       "    <tr>\n",
       "      <th>96</th>\n",
       "      <td>96</td>\n",
       "      <td>Chittorgarh</td>\n",
       "      <td>4.1</td>\n",
       "      <td>October to March</td>\n",
       "      <td>Located in South-Eastern Rajasthan, Chittorgar...</td>\n",
       "      <td>locat rajasthan chittorgarh known chittorgarh ...</td>\n",
       "    </tr>\n",
       "    <tr>\n",
       "      <th>97</th>\n",
       "      <td>97</td>\n",
       "      <td>Nahan</td>\n",
       "      <td>3.9</td>\n",
       "      <td>April to September</td>\n",
       "      <td>Away from the buzzing crowd of the city, Nahan...</td>\n",
       "      <td>away buzz crowd citi nahan perfect romant geta...</td>\n",
       "    </tr>\n",
       "    <tr>\n",
       "      <th>98</th>\n",
       "      <td>98</td>\n",
       "      <td>Lavasa</td>\n",
       "      <td>3.9</td>\n",
       "      <td>hroughout the year</td>\n",
       "      <td>Known as India's newest hill station, the Lava...</td>\n",
       "      <td>known india newest hill station lavasa corpor ...</td>\n",
       "    </tr>\n",
       "    <tr>\n",
       "      <th>99</th>\n",
       "      <td>99</td>\n",
       "      <td>Poovar</td>\n",
       "      <td>4.3</td>\n",
       "      <td>August to March</td>\n",
       "      <td>Poovar is a small rustic town situated 27 kms ...</td>\n",
       "      <td>poovar small rustic town situat km thiruvanant...</td>\n",
       "    </tr>\n",
       "  </tbody>\n",
       "</table>\n",
       "</div>"
      ],
      "text/plain": [
       "    Unnamed: 0        Place  Rating  Best Time to Visit  \\\n",
       "95          95      Pushkar     4.0    October to March   \n",
       "96          96  Chittorgarh     4.1    October to March   \n",
       "97          97        Nahan     3.9  April to September   \n",
       "98          98       Lavasa     3.9  hroughout the year   \n",
       "99          99       Poovar     4.3     August to March   \n",
       "\n",
       "                                          Description  \\\n",
       "95  Pushka is a small temple town located around 1...   \n",
       "96  Located in South-Eastern Rajasthan, Chittorgar...   \n",
       "97  Away from the buzzing crowd of the city, Nahan...   \n",
       "98  Known as India's newest hill station, the Lava...   \n",
       "99  Poovar is a small rustic town situated 27 kms ...   \n",
       "\n",
       "                                processed_description  \n",
       "95  pushka small templ town locat around km ajmer ...  \n",
       "96  locat rajasthan chittorgarh known chittorgarh ...  \n",
       "97  away buzz crowd citi nahan perfect romant geta...  \n",
       "98  known india newest hill station lavasa corpor ...  \n",
       "99  poovar small rustic town situat km thiruvanant...  "
      ]
     },
     "execution_count": 74,
     "metadata": {},
     "output_type": "execute_result"
    }
   ],
   "source": [
    "data.tail()"
   ]
  },
  {
   "cell_type": "code",
   "execution_count": 75,
   "id": "803ba2a5",
   "metadata": {},
   "outputs": [],
   "source": [
    "# Preprocess data\n",
    "stop_words = set(stopwords.words('english'))\n",
    "porter = PorterStemmer()"
   ]
  },
  {
   "cell_type": "code",
   "execution_count": 76,
   "id": "0aeec574",
   "metadata": {},
   "outputs": [],
   "source": [
    "def preprocess(text):\n",
    "    text = text.lower()\n",
    "    tokens = nltk.word_tokenize(text)\n",
    "    tokens = [porter.stem(token) for token in tokens if token.isalpha() and token not in stop_words]\n",
    "    return ' '.join(tokens)\n",
    "\n",
    "data['processed_description'] = data['Description'].apply(preprocess)\n"
   ]
  },
  {
   "cell_type": "code",
   "execution_count": 77,
   "id": "0bc4631e",
   "metadata": {},
   "outputs": [],
   "source": [
    "# Create TF-IDF matrix\n",
    "tfidf = TfidfVectorizer()\n",
    "tfidf_matrix = tfidf.fit_transform(data['processed_description'])\n"
   ]
  },
  {
   "cell_type": "code",
   "execution_count": 78,
   "id": "c306a9e0",
   "metadata": {
    "scrolled": true
   },
   "outputs": [],
   "source": [
    "# Compute cosine similarity\n",
    "similarity_scores = cosine_similarity(tfidf_matrix)"
   ]
  },
  {
   "cell_type": "code",
   "execution_count": 79,
   "id": "c022fd3c",
   "metadata": {},
   "outputs": [],
   "source": [
    "# Define function to recommend destinations based on user input\n",
    "def recommend_destinations(rating, best_time, user_description, num_recommendations, description_vectors):\n",
    "    # Filter destinations based on rating and best time\n",
    "    filtered_data = data[(data['Rating'] >= rating) &\n",
    "                         (data['Best Time to Visit'] == best_time)]\n",
    "    \n",
    "    # Vectorize user description\n",
    "    user_description_vector = tfidf.transform([user_description])\n",
    "    \n",
    "    # Calculate cosine similarity between user description and destination descriptions\n",
    "    similarity_scores = cosine_similarity(user_description_vector, tfidf_matrix)\n",
    "    \n",
    "    # Get indices of top recommended destinations\n",
    "    top_indices = similarity_scores.argsort()[0][-num_recommendations:][::-1]\n",
    "    \n",
    "    # Return recommended destinations\n",
    "    recommendations = data['Place'].iloc[top_indices].tolist()\n",
    "    return recommendations"
   ]
  },
  {
   "cell_type": "code",
   "execution_count": 84,
   "id": "539e1187",
   "metadata": {},
   "outputs": [],
   "source": [
    "# Test the function\n",
    "place = 'Manali'\n",
    "rating = 4.5\n",
    "best_time = 'October to Jun'\n",
    "user_description = 'mountains'\n",
    "num_recommendations = 5"
   ]
  },
  {
   "cell_type": "code",
   "execution_count": 85,
   "id": "42f853a1",
   "metadata": {},
   "outputs": [
    {
     "name": "stdout",
     "output_type": "stream",
     "text": [
      "Recommended destinations based on your description:\n",
      "Poovar\n",
      "Pondicherry\n",
      "Agra\n",
      "Kolkata\n",
      "Jodhpur\n"
     ]
    }
   ],
   "source": [
    "recommended_destinations = recommend_destinations(rating, best_time, user_description, num_recommendations,tfidf_matrix )\n",
    "print(f\"Recommended destinations based on your description:\")\n",
    "for destination in recommended_destinations:\n",
    "    print(destination)\n"
   ]
  },
  {
   "cell_type": "code",
   "execution_count": 87,
   "id": "7cbeaa1e",
   "metadata": {},
   "outputs": [
    {
     "name": "stdout",
     "output_type": "stream",
     "text": [
      "Recommended destinations based on your description:\n",
      "Poovar\n",
      "Pondicherry\n",
      "Agra\n"
     ]
    }
   ],
   "source": [
    "# Test the function with different inputs\n",
    "rating = 4.2\n",
    "best_time = 'October to March'\n",
    "user_description = 'Peaceful surroundings and coffee plantations'\n",
    "num_recommendations = 3\n",
    "\n",
    "recommended_destinations = recommend_destinations(rating, best_time, user_description, num_recommendations,tfidf_matrix)\n",
    "print(f\"Recommended destinations based on your description:\")\n",
    "for destination in recommended_destinations:\n",
    "    print(destination)\n"
   ]
  },
  {
   "cell_type": "code",
   "execution_count": null,
   "id": "f1d9e298",
   "metadata": {},
   "outputs": [],
   "source": []
  },
  {
   "cell_type": "code",
   "execution_count": null,
   "id": "93751015",
   "metadata": {},
   "outputs": [],
   "source": []
  },
  {
   "cell_type": "code",
   "execution_count": 88,
   "id": "7ae13ead",
   "metadata": {
    "scrolled": true
   },
   "outputs": [
    {
     "name": "stdout",
     "output_type": "stream",
     "text": [
      "\n",
      "Recommendations for User 1:\n"
     ]
    },
    {
     "ename": "NameError",
     "evalue": "name 'processed_description' is not defined",
     "output_type": "error",
     "traceback": [
      "\u001b[1;31m---------------------------------------------------------------------------\u001b[0m",
      "\u001b[1;31mNameError\u001b[0m                                 Traceback (most recent call last)",
      "\u001b[1;32m~\\AppData\\Local\\Temp\\ipykernel_22796\\2116266453.py\u001b[0m in \u001b[0;36m<module>\u001b[1;34m\u001b[0m\n\u001b[0;32m      3\u001b[0m     \u001b[0mprint\u001b[0m\u001b[1;33m(\u001b[0m\u001b[1;34mf\"\\nRecommendations for User {i+1}:\"\u001b[0m\u001b[1;33m)\u001b[0m\u001b[1;33m\u001b[0m\u001b[1;33m\u001b[0m\u001b[0m\n\u001b[0;32m      4\u001b[0m     \u001b[1;32mfor\u001b[0m \u001b[0midx\u001b[0m \u001b[1;32min\u001b[0m \u001b[0mindices\u001b[0m\u001b[1;33m:\u001b[0m\u001b[1;33m\u001b[0m\u001b[1;33m\u001b[0m\u001b[0m\n\u001b[1;32m----> 5\u001b[1;33m         \u001b[0mprint\u001b[0m\u001b[1;33m(\u001b[0m\u001b[1;34mf\"- Destination: {processed_description[idx]}\"\u001b[0m\u001b[1;33m)\u001b[0m\u001b[1;33m\u001b[0m\u001b[1;33m\u001b[0m\u001b[0m\n\u001b[0m",
      "\u001b[1;31mNameError\u001b[0m: name 'processed_description' is not defined"
     ]
    }
   ],
   "source": [
    "# Print recommended destinations\n",
    "for i, indices in enumerate(top_indices):\n",
    "    print(f\"\\nRecommendations for User {i+1}:\")\n",
    "    for idx in indices:\n",
    "        print(f\"- Destination: {processed_description[idx]}\")"
   ]
  },
  {
   "cell_type": "code",
   "execution_count": null,
   "id": "3ea4fb09",
   "metadata": {},
   "outputs": [],
   "source": [
    "\n"
   ]
  },
  {
   "cell_type": "code",
   "execution_count": 35,
   "id": "a7239dd7",
   "metadata": {},
   "outputs": [
    {
     "name": "stdout",
     "output_type": "stream",
     "text": [
      "\n",
      "Recommendations for User 1:\n",
      "- Destination: Destination B\n",
      "  Description: It is surrounded by stunning natural landscapes and offers numerous hiking trails.\n",
      "- Destination: Destination C\n",
      "  Description: This city is known for its rich history and impressive architectural landmarks.\n",
      "- Destination: Destination D\n",
      "  Description: Experience the vibrant nightlife of this bustling city with its numerous clubs and entertainment options.\n",
      "\n",
      "Recommendations for User 2:\n",
      "- Destination: Destination D\n",
      "  Description: Experience the vibrant nightlife of this bustling city with its numerous clubs and entertainment options.\n",
      "- Destination: Destination B\n",
      "  Description: It is surrounded by stunning natural landscapes and offers numerous hiking trails.\n",
      "- Destination: Destination C\n",
      "  Description: This city is known for its rich history and impressive architectural landmarks.\n",
      "\n",
      "Recommendations for User 3:\n",
      "- Destination: Destination D\n",
      "  Description: Experience the vibrant nightlife of this bustling city with its numerous clubs and entertainment options.\n",
      "- Destination: Destination C\n",
      "  Description: This city is known for its rich history and impressive architectural landmarks.\n",
      "- Destination: Destination B\n",
      "  Description: It is surrounded by stunning natural landscapes and offers numerous hiking trails.\n",
      "\n",
      "Recommendations for User 4:\n",
      "- Destination: Destination B\n",
      "  Description: It is surrounded by stunning natural landscapes and offers numerous hiking trails.\n",
      "- Destination: Destination C\n",
      "  Description: This city is known for its rich history and impressive architectural landmarks.\n",
      "- Destination: Destination A\n",
      "  Description: This destination offers beautiful beaches and a wide range of water sports activities.\n"
     ]
    }
   ],
   "source": [
    "from sklearn.feature_extraction.text import TfidfVectorizer\n",
    "from sklearn.metrics.pairwise import cosine_similarity\n",
    "\n",
    "# User input with descriptions and corresponding place names\n",
    "user_data = [\n",
    "    {\n",
    "        'place': 'Beach Destination',\n",
    "        'description': \"I love beaches and water sports.\"\n",
    "    },\n",
    "    {\n",
    "        'place': 'Nature Retreat',\n",
    "        'description': \"I enjoy hiking and being close to nature.\"\n",
    "    },\n",
    "    {\n",
    "        'place': 'Historical City',\n",
    "        'description': \"I'm interested in historical landmarks and architecture.\"\n",
    "    },\n",
    "    {\n",
    "        'place': 'City with Nightlife',\n",
    "        'description': \"I prefer vibrant cities with a lively nightlife.\"\n",
    "    }\n",
    "]\n",
    "\n",
    "# Destination descriptions\n",
    "destination_data = [\n",
    "    {\n",
    "        'place': 'Destination A',\n",
    "        'description': \"This destination offers beautiful beaches and a wide range of water sports activities.\"\n",
    "    },\n",
    "    {\n",
    "        'place': 'Destination B',\n",
    "        'description': \"It is surrounded by stunning natural landscapes and offers numerous hiking trails.\"\n",
    "    },\n",
    "    {\n",
    "        'place': 'Destination C',\n",
    "        'description': \"This city is known for its rich history and impressive architectural landmarks.\"\n",
    "    },\n",
    "    {\n",
    "        'place': 'Destination D',\n",
    "        'description': \"Experience the vibrant nightlife of this bustling city with its numerous clubs and entertainment options.\"\n",
    "    }\n",
    "]\n",
    "\n",
    "# Preprocess and vectorize the descriptions\n",
    "vectorizer = TfidfVectorizer()\n",
    "user_descriptions = [data['description'] for data in user_data]\n",
    "user_vectors = vectorizer.fit_transform(user_descriptions)\n",
    "destination_descriptions = [data['description'] for data in destination_data]\n",
    "destination_vectors = vectorizer.transform(destination_descriptions)\n",
    "\n",
    "# Calculate cosine similarity between user and destination vectors\n",
    "similarity_scores = cosine_similarity(user_vectors, destination_vectors)\n",
    "\n",
    "# Recommend destinations based on highest similarity score\n",
    "num_recommendations = 3  # Number of recommendations to provide\n",
    "top_indices = similarity_scores.argsort()[:, -num_recommendations:][::-1]\n",
    "\n",
    "# Print recommended destinations with place names\n",
    "for i, indices in enumerate(top_indices):\n",
    "    print(f\"\\nRecommendations for User {i+1}:\")\n",
    "    for idx in indices:\n",
    "        place_name = destination_data[idx]['place']\n",
    "        print(f\"- Destination: {place_name}\\n  Description: {destination_descriptions[idx]}\")\n"
   ]
  },
  {
   "cell_type": "code",
   "execution_count": null,
   "id": "8783bce6",
   "metadata": {},
   "outputs": [],
   "source": [
    "def recommend_destinations(place, rating, best_time,user_description,num_recommendations):\n",
    "    idx = data.index[(data['Place'] == place) & (data['Rating'] >= rating) & (data['Best Time to Visit'] == best_time)].tolist()[0]\n",
    "    sim_scores = list(enumerate(similarity_scores[idx]))\n",
    "    sim_scores = sorted(sim_scores, key=lambda x: x[1], reverse=True)\n",
    "    sim_scores = sim_scores[1:11]\n",
    "    destination_indices = [i[0] for i in sim_scores]\n",
    "    return data['Place'].iloc[destination_indices]"
   ]
  },
  {
   "cell_type": "code",
   "execution_count": null,
   "id": "33bedff3",
   "metadata": {},
   "outputs": [],
   "source": [
    "\n"
   ]
  }
 ],
 "metadata": {
  "kernelspec": {
   "display_name": "Python 3 (ipykernel)",
   "language": "python",
   "name": "python3"
  },
  "language_info": {
   "codemirror_mode": {
    "name": "ipython",
    "version": 3
   },
   "file_extension": ".py",
   "mimetype": "text/x-python",
   "name": "python",
   "nbconvert_exporter": "python",
   "pygments_lexer": "ipython3",
   "version": "3.9.13"
  }
 },
 "nbformat": 4,
 "nbformat_minor": 5
}
